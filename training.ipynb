{
 "cells": [
  {
   "cell_type": "code",
   "execution_count": null,
   "metadata": {},
   "outputs": [],
   "source": [
    "# %pip install torch transformers datasets"
   ]
  },
  {
   "cell_type": "code",
   "execution_count": 1,
   "metadata": {},
   "outputs": [
    {
     "name": "stderr",
     "output_type": "stream",
     "text": [
      "c:\\Users\\SWAYATTA DAW\\Documents\\Projects\\esci\\.venv\\lib\\site-packages\\tqdm\\auto.py:21: TqdmWarning: IProgress not found. Please update jupyter and ipywidgets. See https://ipywidgets.readthedocs.io/en/stable/user_install.html\n",
      "  from .autonotebook import tqdm as notebook_tqdm\n"
     ]
    }
   ],
   "source": [
    "# Importing the necessary libraries\n",
    "import torch\n",
    "from datasets import load_dataset\n",
    "from transformers import AutoTokenizer, AutoModelForSequenceClassification, Trainer, TrainingArguments"
   ]
  },
  {
   "cell_type": "code",
   "execution_count": null,
   "metadata": {},
   "outputs": [],
   "source": [
    "# %pip install zstandard"
   ]
  },
  {
   "cell_type": "code",
   "execution_count": 2,
   "metadata": {},
   "outputs": [
    {
     "name": "stdout",
     "output_type": "stream",
     "text": [
      "Dataset loaded in streaming mode successfully.\n",
      "{'query': 'kids probtiotic fiber', 'doc': 'Fiber Prebiotic Sugar-Free Gummies with Inulin, Digestive Support for Kids & Adults - Apple Flavor (60 Ct) Chewable Gummies: Our fiber gummies for kids and adults contain 3.35g of Inulin, used to improve gut health, relieve constipation, reverse appetite loss and alleviate an upset stomach.\\nFiber Supplements: The easy way to take a dose of pure superfood supplement, our fiber supplement gummies are made for both adults and kids and have a delicious apple flavor with no artificial colors, flavors, or additives.\\nFiber for Kids & Adults; BeLive’s Prebiotic Kids Fiber Gummies include Chicory Root & Inulin which are highly effective fibers to improve digestive function and helps in achieving a healthy weight. For the best result, take it with BeLive’s Probiotic Gummies!\\nFiber Gummies for Adults Sugar Free: Vegan Friendly, BeLive does not use gelatin or any animal products in the making of our fiber gummy.\\nQuality Check at Every Stage; Blending, Processing, Testing, Bottling, Labeling, Follow up testings BeLive', 'neg': [\"Chapter One Fiber Gummies, with Natural Chicory Root Soluble Fiber, Certified Kosher (60 Flavored Gummies) Zahler - Chapter One Fiber Gummies - 60 Gummies Chapter One Kosher Fiber Gummies for kids contain an excellent source of natural Chicory Root soluble fiber. With 3 grams per serving, this ideal formula provides fiber in a delicious tasting gummy to support digestive health and to help your child's tummy feel fuller for longer. Optimal Health Chapter One Fiber Gummies contain an excellent source ABOUT: Chapter One Fiber Gummies contains 3 grams of fiber with natural chicory root soluble fiber\\nBENEFITS: Fiber is is important for overall health, specifically helps support daily digestion and regularity\\nGREAT TASTING: Contains soluble fiber in a most great tasting gummy\\nFREE OF: Peanuts, Tree Nuts, Dairy, Gluten, Soy and Egg\\nMADE IN THE USA: Manufactured and bottled in the USA in a state of art GMP certified facility Zahler\", 'Metamucil KIDS Fiber Thins, Psyllium Husk Fiber Supplement, Digestive Health Support, Chocolate Flavored, 12 Servings (Pack of 4) Help promote their digestive health\\nContains 5 grams of fiber per serving\\n100 Calories per serving\\nIn convenient on-the-go packets, perfect to take anywhere\\nTRUSTED BY PROFESSIONALS – Metamucil is the #1 doctor recommended fiber brand and may be HSA/ FSA eligible Metamucil', \"PottyWise Liquid Stool Softener for Kids - Stool Softener and LiquidLaxative for Kids - Gentle Constipation Relief for Kids, Fiber for Kids, Kids Stool Softener <p>A backed up baby booty can wreak havoc on your day. Looking for an easy & safe way to keep constipation away?Our digestive support supplements safely stop constipation, eliminate gas, relieve tummy cramps & reduce bloating!</p><p>\\xa0</p><p>100% Absolutely no Sugar, Gluten, Preservatives, Etc.</p><p>\\xa0</p><p>Stop giving your kid a laxative with stool softener designed for adult tummies. Sugar-free, gluten-free & blended using only the finest laxative herbs, these digestion drops provide natural constipation relief for kids & gassy babies.</p><p>\\xa0</p><p> Yummy Bowel Health Formula Children Enjoy! Don't worry about tricking your kid into taking his/her bowel movement supplement. Our constipation supplements are in a liquid form & naturally have a slight flavor. Add some drops to a bottle, on top of food or mixed in a drink!</p><p>\\xa0</p><p> Laxative Oil Comes in Convenient Dropper Bottle!</p><p>\\xa0</p><p>Get rid of that messy baby laxative & stool softener. Packaged in a dropper bottle, this laxative for babies & kids is easy to give. Dispense & administer 1mL (20 drops) 1-3X daily depending on the needs of your constipated baby.</p><p>\\xa0</p><p>Ingredients: Elder Berry, Catnip Leaf, Licorice Root, Senna Leaf, Black Walnut Hull, Fennel Seed, Anise Seed\\xa0</p><p>\\xa0</p><p>*Please consult your healthcare provider or pediatrician before use if child is on medication or has a medical condition.</p><p>\\xa0</p><p>** Follow Directions Carefully. If diarrhea, loose stools or abdominal pain develops, discontinue use & see a doctor.A constipated infant or a constipated toddler is certainly no fun. So don't let a bowel clog slow your tiny tot down.</p><p>\\xa0</p> Potty problems? Tired of seeing your child in pain? Put an end to your child's discomfort with PottyWise childrens stool softener\\nTo mask earthy flavor, mix with food or drink! Just shake and take 1 dropper (1mL)1-4x daily\\nThis liquid laxative for toddler constipation relief is all natural, gentle, & stimulant free\\nThis constipation relief for kids contains Elderberry, Licorice Root, Senna Leaf, Fennel Seed & Bayberry\\nHelp your child restore regularity. This stool softener for kids helps digestive system run smoothly JoySpring\", \"OLLY Kids Probiotic + Prebiotic Gummy, 30 Day Supply (30 Gummies), Just Peachy, Probiotics, Prebiotics, Peppermint, Chewable Supplement HEALTHY & HAPPY TUMMIES: OLLY Kids Happy Tummy supplements nurture a healthy digestive ecosystem with an blend of probiotics, prebiotics & soothing peppermint. Made with natural colors & flavors.\\nTHE GOOD STUFF YOU NEED: Essential nutrients are important for your overall wellness, but getting your daily recommended dose can be tough. OLLY gummy supplements make it easy, delicious, and fun.\\nNATURALLY TASTY: Kids love OLLY chewable vitamins and supplements because we make it yummy and fun to get their daily dose. Parents know the only thing better than a happy kid is a healthy, happy kid.\\nHI THERE. WE'RE OLLY: We've made it our personal mission to make nutrition easy to understand, so you can pursue good health without compromise. Taking nutritional supplements shouldn't be a chore!\\nOLLY IS DIFFERENT: Try our plant based protein powders and discover for yourself how we're different. You'll love OLLY products if you've used products from Shakeology, Garden of Life, Orgain, TrueFit, PlantFusion, KetoLogic, Organifi and ALOHA. Olly\", \"Vitafusion Fiber Gummies, Sugar Free, 90-Count Bottle (Pack of 2) During the summer months products may arrive warm but Amazon stores and ships products in accordance with manufacturers' recommendations, when provided. Vitafusion\", 'Vitafusion Fiber Gummies, 220Count\"Sugar Free\" (Pack of 2) Vitafusion Fiber Gummies, 220 Count \"sugar free\" (Pack of 2) Vitafusion', 'Vitafusion Fiber Well Gummies, 220Count Peach, Strawberry & blackberry natural flavors\\n5 grams of fiber per serving\\nBest TASTING gummy Vitafusion', 'SmartyPants Kids Formula & Fiber Daily Gummy Multivitamin: Fiber for Digestive Health, Vitamin C, D3, & Zinc for Immunity, Omega 3 Fish Oil (EPA & DHA), B6, Methyl B12, 120 Count Fiber gummies for kids has new premium ingredients, all in one delicious serving: Beta Carotene, Vitamin B6, Vitamin K2 & Choline (Packaging May Vary)\\nSupports gut strength, strong bones and more as it contains dietary fiber supplement with Omega-3 EPA & DHA (from fish oil) and choline, vitamins D3 for bone & immune health, vitamin B12 to support energy metabolism, vitamin E for antioxidant support and iodine for thyroid support.*\\nMultivitamin kids fiber gummy with omega-3 EPA & DHA (essential fatty acids) sustainably sourced from wild-caught small fish\\nFor children 4 years of age and older, take 2 kids fiber gummies daily for the first week, 4 gummies daily thereafter. May be taken with or without food. Chew each gummy thoroughly.\\nNon-GMO. Free of milk, eggs, peanuts, tree nut allergens, fish allergens, shellfish, soy, gluten and wheat. No synthetic colors or artificial sweeteners/flavors. 3RD PARTY LAB TESTED. No refrigeration required. SmartyPants Original Version', \"L'il Critters Kids Fiber Gummy Bears Supplement, 90 Count By the makers of the #1 Kids Gummy Vitamin Brand\\nNo high fructose corn syrup\\nNo synthetic (FD&C) dyes\\nGluten-free\\nAward Winning Taste Lil Critters Multi Color\"], 'negscore': [0.1, 0.1, 0.1, 0.1, 0.1, 0.1, 0.1, 0.1, 0.1]}\n"
     ]
    }
   ],
   "source": [
    "try:\n",
    "    dataset = load_dataset(\"nixiesearch/amazon-esci\", streaming=True)\n",
    "    print(\"Dataset loaded in streaming mode successfully.\")\n",
    "    print(next(iter(dataset[\"train\"])))\n",
    "except Exception as e:\n",
    "    print(f\"Error loading dataset in streaming mode: {e}\")\n",
    "    raise"
   ]
  },
  {
   "cell_type": "code",
   "execution_count": 3,
   "metadata": {},
   "outputs": [
    {
     "name": "stdout",
     "output_type": "stream",
     "text": [
      "Split: train, Size: Unable to determine (streaming dataset)\n",
      "First item in train split:\n",
      "{'query': 'kids probtiotic fiber', 'doc': 'Fiber Prebiotic Sugar-Free Gummies with Inulin, Digestive Support for Kids & Adults - Apple Flavor (60 Ct) Chewable Gummies: Our fiber gummies for kids and adults contain 3.35g of Inulin, used to improve gut health, relieve constipation, reverse appetite loss and alleviate an upset stomach.\\nFiber Supplements: The easy way to take a dose of pure superfood supplement, our fiber supplement gummies are made for both adults and kids and have a delicious apple flavor with no artificial colors, flavors, or additives.\\nFiber for Kids & Adults; BeLive’s Prebiotic Kids Fiber Gummies include Chicory Root & Inulin which are highly effective fibers to improve digestive function and helps in achieving a healthy weight. For the best result, take it with BeLive’s Probiotic Gummies!\\nFiber Gummies for Adults Sugar Free: Vegan Friendly, BeLive does not use gelatin or any animal products in the making of our fiber gummy.\\nQuality Check at Every Stage; Blending, Processing, Testing, Bottling, Labeling, Follow up testings BeLive', 'neg': [\"Chapter One Fiber Gummies, with Natural Chicory Root Soluble Fiber, Certified Kosher (60 Flavored Gummies) Zahler - Chapter One Fiber Gummies - 60 Gummies Chapter One Kosher Fiber Gummies for kids contain an excellent source of natural Chicory Root soluble fiber. With 3 grams per serving, this ideal formula provides fiber in a delicious tasting gummy to support digestive health and to help your child's tummy feel fuller for longer. Optimal Health Chapter One Fiber Gummies contain an excellent source ABOUT: Chapter One Fiber Gummies contains 3 grams of fiber with natural chicory root soluble fiber\\nBENEFITS: Fiber is is important for overall health, specifically helps support daily digestion and regularity\\nGREAT TASTING: Contains soluble fiber in a most great tasting gummy\\nFREE OF: Peanuts, Tree Nuts, Dairy, Gluten, Soy and Egg\\nMADE IN THE USA: Manufactured and bottled in the USA in a state of art GMP certified facility Zahler\", 'Metamucil KIDS Fiber Thins, Psyllium Husk Fiber Supplement, Digestive Health Support, Chocolate Flavored, 12 Servings (Pack of 4) Help promote their digestive health\\nContains 5 grams of fiber per serving\\n100 Calories per serving\\nIn convenient on-the-go packets, perfect to take anywhere\\nTRUSTED BY PROFESSIONALS – Metamucil is the #1 doctor recommended fiber brand and may be HSA/ FSA eligible Metamucil', \"PottyWise Liquid Stool Softener for Kids - Stool Softener and LiquidLaxative for Kids - Gentle Constipation Relief for Kids, Fiber for Kids, Kids Stool Softener <p>A backed up baby booty can wreak havoc on your day. Looking for an easy & safe way to keep constipation away?Our digestive support supplements safely stop constipation, eliminate gas, relieve tummy cramps & reduce bloating!</p><p>\\xa0</p><p>100% Absolutely no Sugar, Gluten, Preservatives, Etc.</p><p>\\xa0</p><p>Stop giving your kid a laxative with stool softener designed for adult tummies. Sugar-free, gluten-free & blended using only the finest laxative herbs, these digestion drops provide natural constipation relief for kids & gassy babies.</p><p>\\xa0</p><p> Yummy Bowel Health Formula Children Enjoy! Don't worry about tricking your kid into taking his/her bowel movement supplement. Our constipation supplements are in a liquid form & naturally have a slight flavor. Add some drops to a bottle, on top of food or mixed in a drink!</p><p>\\xa0</p><p> Laxative Oil Comes in Convenient Dropper Bottle!</p><p>\\xa0</p><p>Get rid of that messy baby laxative & stool softener. Packaged in a dropper bottle, this laxative for babies & kids is easy to give. Dispense & administer 1mL (20 drops) 1-3X daily depending on the needs of your constipated baby.</p><p>\\xa0</p><p>Ingredients: Elder Berry, Catnip Leaf, Licorice Root, Senna Leaf, Black Walnut Hull, Fennel Seed, Anise Seed\\xa0</p><p>\\xa0</p><p>*Please consult your healthcare provider or pediatrician before use if child is on medication or has a medical condition.</p><p>\\xa0</p><p>** Follow Directions Carefully. If diarrhea, loose stools or abdominal pain develops, discontinue use & see a doctor.A constipated infant or a constipated toddler is certainly no fun. So don't let a bowel clog slow your tiny tot down.</p><p>\\xa0</p> Potty problems? Tired of seeing your child in pain? Put an end to your child's discomfort with PottyWise childrens stool softener\\nTo mask earthy flavor, mix with food or drink! Just shake and take 1 dropper (1mL)1-4x daily\\nThis liquid laxative for toddler constipation relief is all natural, gentle, & stimulant free\\nThis constipation relief for kids contains Elderberry, Licorice Root, Senna Leaf, Fennel Seed & Bayberry\\nHelp your child restore regularity. This stool softener for kids helps digestive system run smoothly JoySpring\", \"OLLY Kids Probiotic + Prebiotic Gummy, 30 Day Supply (30 Gummies), Just Peachy, Probiotics, Prebiotics, Peppermint, Chewable Supplement HEALTHY & HAPPY TUMMIES: OLLY Kids Happy Tummy supplements nurture a healthy digestive ecosystem with an blend of probiotics, prebiotics & soothing peppermint. Made with natural colors & flavors.\\nTHE GOOD STUFF YOU NEED: Essential nutrients are important for your overall wellness, but getting your daily recommended dose can be tough. OLLY gummy supplements make it easy, delicious, and fun.\\nNATURALLY TASTY: Kids love OLLY chewable vitamins and supplements because we make it yummy and fun to get their daily dose. Parents know the only thing better than a happy kid is a healthy, happy kid.\\nHI THERE. WE'RE OLLY: We've made it our personal mission to make nutrition easy to understand, so you can pursue good health without compromise. Taking nutritional supplements shouldn't be a chore!\\nOLLY IS DIFFERENT: Try our plant based protein powders and discover for yourself how we're different. You'll love OLLY products if you've used products from Shakeology, Garden of Life, Orgain, TrueFit, PlantFusion, KetoLogic, Organifi and ALOHA. Olly\", \"Vitafusion Fiber Gummies, Sugar Free, 90-Count Bottle (Pack of 2) During the summer months products may arrive warm but Amazon stores and ships products in accordance with manufacturers' recommendations, when provided. Vitafusion\", 'Vitafusion Fiber Gummies, 220Count\"Sugar Free\" (Pack of 2) Vitafusion Fiber Gummies, 220 Count \"sugar free\" (Pack of 2) Vitafusion', 'Vitafusion Fiber Well Gummies, 220Count Peach, Strawberry & blackberry natural flavors\\n5 grams of fiber per serving\\nBest TASTING gummy Vitafusion', 'SmartyPants Kids Formula & Fiber Daily Gummy Multivitamin: Fiber for Digestive Health, Vitamin C, D3, & Zinc for Immunity, Omega 3 Fish Oil (EPA & DHA), B6, Methyl B12, 120 Count Fiber gummies for kids has new premium ingredients, all in one delicious serving: Beta Carotene, Vitamin B6, Vitamin K2 & Choline (Packaging May Vary)\\nSupports gut strength, strong bones and more as it contains dietary fiber supplement with Omega-3 EPA & DHA (from fish oil) and choline, vitamins D3 for bone & immune health, vitamin B12 to support energy metabolism, vitamin E for antioxidant support and iodine for thyroid support.*\\nMultivitamin kids fiber gummy with omega-3 EPA & DHA (essential fatty acids) sustainably sourced from wild-caught small fish\\nFor children 4 years of age and older, take 2 kids fiber gummies daily for the first week, 4 gummies daily thereafter. May be taken with or without food. Chew each gummy thoroughly.\\nNon-GMO. Free of milk, eggs, peanuts, tree nut allergens, fish allergens, shellfish, soy, gluten and wheat. No synthetic colors or artificial sweeteners/flavors. 3RD PARTY LAB TESTED. No refrigeration required. SmartyPants Original Version', \"L'il Critters Kids Fiber Gummy Bears Supplement, 90 Count By the makers of the #1 Kids Gummy Vitamin Brand\\nNo high fructose corn syrup\\nNo synthetic (FD&C) dyes\\nGluten-free\\nAward Winning Taste Lil Critters Multi Color\"], 'negscore': [0.1, 0.1, 0.1, 0.1, 0.1, 0.1, 0.1, 0.1, 0.1]}\n",
      "\n",
      "Split: test, Size: Unable to determine (streaming dataset)\n",
      "First item in test split:\n",
      "{'query': 'patrick rothfuss', 'doc': \"A Mark of Kings: The Shattered Reigns, Book 1 <p>Despite his youth, Declan Idrys knows of the evils of the world. He knows of the bastards and brigands who plague the King's lands, of the monsters skulking in the wooded depths of the realm. Together with his companion, Ryn - a beast of rather peculiar talent - he has spent the last decade of his life beneath the bloody banners of a half-dozen mercenary guilds, hunting precisely such festering wickedness within the borders of Viridian.</p> <p>Unfortunately, fate is quick to pull on the leash of its favorite children. When one particularly troubling contract goes sideways, Declan and Ryn find themselves thrust into a war thought legend and long-ended, a conflict so old it is synonymous with a time in which dragons still ruled the western skies. Now, as dead men rise from their graves and the terrible beasts of the northern ranges descend into the kingdom with an appetite for savagery and flesh, Declan is faced with a profane choice. He can turn, can flee an ancient rising horror that would see the realms of man left as shattered death and wind-blown ash.</p> <p>Or, Declan can face this mounting threat, can come to terms with the fact that his oldest friend might just be more than he appears, and learn to wield an ageless power all his own.</p> <p>Centuries pass, after all, but the Blood of Kings does not fade....</p> Audible\", 'neg': ['The Fifth Season: The Broken Earth, Book 1 <p>At the end of the world, a woman must hide her secret power and find her kidnapped daughter in this \"intricate and extraordinary\" Hugo Award winning novel of power, oppression, and revolution. (<i>The New York Times</i>)</p> <p>This is the way the world ends...for the last time.</p> <p>It starts with the great red rift across the heart of the world\\'s sole continent, spewing ash that blots out the sun. It starts with death, with a murdered son and a missing daughter. It starts with betrayal, and long dormant wounds rising up to fester.</p> <p>This is the Stillness, a land long familiar with catastrophe, where the power of the Earth is wielded as a weapon. And where there is no mercy.</p> <p>Listen to the first book in the critically acclaimed, three-time Hugo award-winning trilogy by <i>NYT </i>best-selling author N. K. Jemisin.</p> Audible', \"The Shadow of What Was Lost: The Licanius Trilogy, Book 1 <p>It has been 20 years since the end of the war. The dictatorial Augurs, once thought of almost as gods, were overthrown and wiped out during the conflict, their much-feared powers mysteriously failing them. Those who had ruled under them, men and women with a lesser ability known as the Gift, avoided the Augurs' fate only by submitting themselves to the rebellion's Four Tenets. </p> <p>A representation of these laws is now written into the flesh of any who use the Gift, forcing those so marked into absolute obedience. As a student of the Gifted, Davian suffers the consequences of a war fought--and lost--before he was born. Despised by most beyond the school walls, he and those around him are all but prisoners as they attempt to learn control of the Gift. Worse, as Davian struggles with his lessons, he knows there is further to fall if he cannot pass his final tests. But when he discovers he has the ability to wield the forbidden power of the Augurs, he sets into motion a chain of events that will change everything. </p> <p>To the north an ancient enemy, long thought defeated, begins to stir. And to the west, a young man whose fate is intertwined with Davian’s wakes up in the forest, covered in blood and with no memory of who he is....</p> Audible\", 'Unfettered: Tales By Masters of Fantasy <p>You define life or it defines you. In Shawn Speakman’s case, it was both. Lacking health insurance and diagnosed with Hodgkin’s lymphoma in 2011, Shawn quickly accrued a massive medical debt that he did not have the ability to pay. That’s when <i>New York Times</i> best-selling author Terry Brooks offered to donate a short story that Shawn could sell to help alleviate those bills - and suggested he ask the same of his other writer friends. <i>Unfettered</i> is the result: An anthology built in order to relieve that debt, featuring short stories by some of the best fantasy writers in the genre. </p> <p>Twenty-three tales comprise this incredible collection, and as the title suggests, the writers were free to contribute whatever they wished. Here is the table of contents: </p> <ul> <li>Foreword by Patrick Rothfuss</li> <li>Introduction: On Becoming Unfettered</li> <li>Imaginary Friends by Terry Brooks</li> <li>How Old Holly Came to Be by Patrick Rothfuss</li> <li>The Old Scale Game by Tad Williams</li> <li>Game of Chance by Carrie Vaughn</li> <li>The Martyr of the Roses by Jacqueline Carey</li> <li>Mudboy by Peter V. Brett</li> <li>The Sound of Broken Absolutes by Peter Orullian</li> <li>The Coach with Big Teeth by R. A. Salvatore</li> <li>Keeper of Memory by Todd Lockwood</li> <li>Heaven in a Wild Flower by Blake Charlton</li> <li>Dogs by Daniel Abraham</li> <li>The Chapel Perilous by Kevin Hearne</li> <li>Select Mode by Mark Lawrence</li> <li>All the Girls Love Michael Stein by David Anthony Durham</li> <li>Strange Rain by Jennifer Bosworth</li> <li>Nocturne by Robert V. S. Redick</li> <li>Unbowed by Eldon Thompson</li> <li>In Favour with Their Stars by Naomi Novik</li> <li>River of Souls by Robert Jordan & Brandon Sanderson</li> <li>The Jester by Michael J. Sullivan</li> <li>The Duel by Lev Grossman</li> <li>Walker and the Shade of Allanon by Terry Brooks</li> <li>The Unfettered Knight by Shawn Speakman<p>With the help of stalwart friends and these wonderful short stories, Shawn has taken the gravest of life’s hardships and created something magical. <i>Unfettered</i> is not only a fantastic anthology in its own right, but it’s a testament to the generosity found in the science fiction and fantasy community—proof that humanity can give beyond itself when the need arises. After all, isn’t that the driving narrative in fantasy literature? </p></li> </ul>', 'Neverwhere <p><b>National Best Seller </b></p> <p><b>Selected as one of NPR\\'s Top 100 Science Fiction and Fantasy Books of All Time </b></p> <p><b>The number one <i>New York Times</i> best-selling author\\'s wildly successful first novel featuring his new <i>Neverwhere</i> tale, \"How the Marquis Got His Coat Back\". </b></p> <p>Richard Mayhew is a young man with a good heart and an ordinary life, which is changed forever when he stops to help a girl he finds bleeding on a London sidewalk. His small act of kindness propels him into a world he never dreamed existed. There are people who fall through the cracks, and Richard has become one of them. And he must learn to survive in this city of shadows and darkness, monsters and saints, murderers and angels, if he is ever to return to the London that he knew. </p> <p>\"A fantastic story that is both the stuff of dreams and nightmares\" (<i>San Diego Union-Tribune</i>), Neil Gaiman\\'s first solo novel has become a touchstone of urban fantasy and a perennial favorite of readers and listeners everywhere. </p>'], 'negscore': [0.1, 0.1, 0.1, 0.1]}\n",
      "\n",
      "Split: test_1k, Size: Unable to determine (streaming dataset)\n",
      "First item in test_1k split:\n",
      "{'query': 'patrick rothfuss', 'doc': \"A Mark of Kings: The Shattered Reigns, Book 1 <p>Despite his youth, Declan Idrys knows of the evils of the world. He knows of the bastards and brigands who plague the King's lands, of the monsters skulking in the wooded depths of the realm. Together with his companion, Ryn - a beast of rather peculiar talent - he has spent the last decade of his life beneath the bloody banners of a half-dozen mercenary guilds, hunting precisely such festering wickedness within the borders of Viridian.</p> <p>Unfortunately, fate is quick to pull on the leash of its favorite children. When one particularly troubling contract goes sideways, Declan and Ryn find themselves thrust into a war thought legend and long-ended, a conflict so old it is synonymous with a time in which dragons still ruled the western skies. Now, as dead men rise from their graves and the terrible beasts of the northern ranges descend into the kingdom with an appetite for savagery and flesh, Declan is faced with a profane choice. He can turn, can flee an ancient rising horror that would see the realms of man left as shattered death and wind-blown ash.</p> <p>Or, Declan can face this mounting threat, can come to terms with the fact that his oldest friend might just be more than he appears, and learn to wield an ageless power all his own.</p> <p>Centuries pass, after all, but the Blood of Kings does not fade....</p> Audible\", 'neg': ['The Fifth Season: The Broken Earth, Book 1 <p>At the end of the world, a woman must hide her secret power and find her kidnapped daughter in this \"intricate and extraordinary\" Hugo Award winning novel of power, oppression, and revolution. (<i>The New York Times</i>)</p> <p>This is the way the world ends...for the last time.</p> <p>It starts with the great red rift across the heart of the world\\'s sole continent, spewing ash that blots out the sun. It starts with death, with a murdered son and a missing daughter. It starts with betrayal, and long dormant wounds rising up to fester.</p> <p>This is the Stillness, a land long familiar with catastrophe, where the power of the Earth is wielded as a weapon. And where there is no mercy.</p> <p>Listen to the first book in the critically acclaimed, three-time Hugo award-winning trilogy by <i>NYT </i>best-selling author N. K. Jemisin.</p> Audible', \"The Shadow of What Was Lost: The Licanius Trilogy, Book 1 <p>It has been 20 years since the end of the war. The dictatorial Augurs, once thought of almost as gods, were overthrown and wiped out during the conflict, their much-feared powers mysteriously failing them. Those who had ruled under them, men and women with a lesser ability known as the Gift, avoided the Augurs' fate only by submitting themselves to the rebellion's Four Tenets. </p> <p>A representation of these laws is now written into the flesh of any who use the Gift, forcing those so marked into absolute obedience. As a student of the Gifted, Davian suffers the consequences of a war fought--and lost--before he was born. Despised by most beyond the school walls, he and those around him are all but prisoners as they attempt to learn control of the Gift. Worse, as Davian struggles with his lessons, he knows there is further to fall if he cannot pass his final tests. But when he discovers he has the ability to wield the forbidden power of the Augurs, he sets into motion a chain of events that will change everything. </p> <p>To the north an ancient enemy, long thought defeated, begins to stir. And to the west, a young man whose fate is intertwined with Davian’s wakes up in the forest, covered in blood and with no memory of who he is....</p> Audible\", 'Unfettered: Tales By Masters of Fantasy <p>You define life or it defines you. In Shawn Speakman’s case, it was both. Lacking health insurance and diagnosed with Hodgkin’s lymphoma in 2011, Shawn quickly accrued a massive medical debt that he did not have the ability to pay. That’s when <i>New York Times</i> best-selling author Terry Brooks offered to donate a short story that Shawn could sell to help alleviate those bills - and suggested he ask the same of his other writer friends. <i>Unfettered</i> is the result: An anthology built in order to relieve that debt, featuring short stories by some of the best fantasy writers in the genre. </p> <p>Twenty-three tales comprise this incredible collection, and as the title suggests, the writers were free to contribute whatever they wished. Here is the table of contents: </p> <ul> <li>Foreword by Patrick Rothfuss</li> <li>Introduction: On Becoming Unfettered</li> <li>Imaginary Friends by Terry Brooks</li> <li>How Old Holly Came to Be by Patrick Rothfuss</li> <li>The Old Scale Game by Tad Williams</li> <li>Game of Chance by Carrie Vaughn</li> <li>The Martyr of the Roses by Jacqueline Carey</li> <li>Mudboy by Peter V. Brett</li> <li>The Sound of Broken Absolutes by Peter Orullian</li> <li>The Coach with Big Teeth by R. A. Salvatore</li> <li>Keeper of Memory by Todd Lockwood</li> <li>Heaven in a Wild Flower by Blake Charlton</li> <li>Dogs by Daniel Abraham</li> <li>The Chapel Perilous by Kevin Hearne</li> <li>Select Mode by Mark Lawrence</li> <li>All the Girls Love Michael Stein by David Anthony Durham</li> <li>Strange Rain by Jennifer Bosworth</li> <li>Nocturne by Robert V. S. Redick</li> <li>Unbowed by Eldon Thompson</li> <li>In Favour with Their Stars by Naomi Novik</li> <li>River of Souls by Robert Jordan & Brandon Sanderson</li> <li>The Jester by Michael J. Sullivan</li> <li>The Duel by Lev Grossman</li> <li>Walker and the Shade of Allanon by Terry Brooks</li> <li>The Unfettered Knight by Shawn Speakman<p>With the help of stalwart friends and these wonderful short stories, Shawn has taken the gravest of life’s hardships and created something magical. <i>Unfettered</i> is not only a fantastic anthology in its own right, but it’s a testament to the generosity found in the science fiction and fantasy community—proof that humanity can give beyond itself when the need arises. After all, isn’t that the driving narrative in fantasy literature? </p></li> </ul>', 'Neverwhere <p><b>National Best Seller </b></p> <p><b>Selected as one of NPR\\'s Top 100 Science Fiction and Fantasy Books of All Time </b></p> <p><b>The number one <i>New York Times</i> best-selling author\\'s wildly successful first novel featuring his new <i>Neverwhere</i> tale, \"How the Marquis Got His Coat Back\". </b></p> <p>Richard Mayhew is a young man with a good heart and an ordinary life, which is changed forever when he stops to help a girl he finds bleeding on a London sidewalk. His small act of kindness propels him into a world he never dreamed existed. There are people who fall through the cracks, and Richard has become one of them. And he must learn to survive in this city of shadows and darkness, monsters and saints, murderers and angels, if he is ever to return to the London that he knew. </p> <p>\"A fantastic story that is both the stuff of dreams and nightmares\" (<i>San Diego Union-Tribune</i>), Neil Gaiman\\'s first solo novel has become a touchstone of urban fantasy and a perennial favorite of readers and listeners everywhere. </p>'], 'negscore': [0.1, 0.1, 0.1, 0.1]}\n",
      "\n"
     ]
    }
   ],
   "source": [
    "for split in dataset.keys():\n",
    "    try:\n",
    "        print(f\"Split: {split}, Size: {len(dataset[split])}\")\n",
    "    except Exception as e:\n",
    "        print(f\"Split: {split}, Size: Unable to determine (streaming dataset)\")\n",
    "    \n",
    "    # Print first item in each split\n",
    "    print(f\"First item in {split} split:\")\n",
    "    print(next(iter(dataset[split])))\n",
    "    print()"
   ]
  },
  {
   "cell_type": "code",
   "execution_count": 4,
   "metadata": {},
   "outputs": [
    {
     "name": "stdout",
     "output_type": "stream",
     "text": [
      "Train samples: 5\n",
      "Test samples: 5\n",
      "\n",
      "First train sample:\n",
      "{'query': 'kids probtiotic fiber', 'doc': 'Fiber Prebiotic Sugar-Free Gummies with Inulin, Digestive Support for Kids & Adults - Apple Flavor (60 Ct) Chewable Gummies: Our fiber gummies for kids and adults contain 3.35g of Inulin, used to improve gut health, relieve constipation, reverse appetite loss and alleviate an upset stomach.\\nFiber Supplements: The easy way to take a dose of pure superfood supplement, our fiber supplement gummies are made for both adults and kids and have a delicious apple flavor with no artificial colors, flavors, or additives.\\nFiber for Kids & Adults; BeLive’s Prebiotic Kids Fiber Gummies include Chicory Root & Inulin which are highly effective fibers to improve digestive function and helps in achieving a healthy weight. For the best result, take it with BeLive’s Probiotic Gummies!\\nFiber Gummies for Adults Sugar Free: Vegan Friendly, BeLive does not use gelatin or any animal products in the making of our fiber gummy.\\nQuality Check at Every Stage; Blending, Processing, Testing, Bottling, Labeling, Follow up testings BeLive', 'neg': [\"Chapter One Fiber Gummies, with Natural Chicory Root Soluble Fiber, Certified Kosher (60 Flavored Gummies) Zahler - Chapter One Fiber Gummies - 60 Gummies Chapter One Kosher Fiber Gummies for kids contain an excellent source of natural Chicory Root soluble fiber. With 3 grams per serving, this ideal formula provides fiber in a delicious tasting gummy to support digestive health and to help your child's tummy feel fuller for longer. Optimal Health Chapter One Fiber Gummies contain an excellent source ABOUT: Chapter One Fiber Gummies contains 3 grams of fiber with natural chicory root soluble fiber\\nBENEFITS: Fiber is is important for overall health, specifically helps support daily digestion and regularity\\nGREAT TASTING: Contains soluble fiber in a most great tasting gummy\\nFREE OF: Peanuts, Tree Nuts, Dairy, Gluten, Soy and Egg\\nMADE IN THE USA: Manufactured and bottled in the USA in a state of art GMP certified facility Zahler\", 'Metamucil KIDS Fiber Thins, Psyllium Husk Fiber Supplement, Digestive Health Support, Chocolate Flavored, 12 Servings (Pack of 4) Help promote their digestive health\\nContains 5 grams of fiber per serving\\n100 Calories per serving\\nIn convenient on-the-go packets, perfect to take anywhere\\nTRUSTED BY PROFESSIONALS – Metamucil is the #1 doctor recommended fiber brand and may be HSA/ FSA eligible Metamucil', \"PottyWise Liquid Stool Softener for Kids - Stool Softener and LiquidLaxative for Kids - Gentle Constipation Relief for Kids, Fiber for Kids, Kids Stool Softener <p>A backed up baby booty can wreak havoc on your day. Looking for an easy & safe way to keep constipation away?Our digestive support supplements safely stop constipation, eliminate gas, relieve tummy cramps & reduce bloating!</p><p>\\xa0</p><p>100% Absolutely no Sugar, Gluten, Preservatives, Etc.</p><p>\\xa0</p><p>Stop giving your kid a laxative with stool softener designed for adult tummies. Sugar-free, gluten-free & blended using only the finest laxative herbs, these digestion drops provide natural constipation relief for kids & gassy babies.</p><p>\\xa0</p><p> Yummy Bowel Health Formula Children Enjoy! Don't worry about tricking your kid into taking his/her bowel movement supplement. Our constipation supplements are in a liquid form & naturally have a slight flavor. Add some drops to a bottle, on top of food or mixed in a drink!</p><p>\\xa0</p><p> Laxative Oil Comes in Convenient Dropper Bottle!</p><p>\\xa0</p><p>Get rid of that messy baby laxative & stool softener. Packaged in a dropper bottle, this laxative for babies & kids is easy to give. Dispense & administer 1mL (20 drops) 1-3X daily depending on the needs of your constipated baby.</p><p>\\xa0</p><p>Ingredients: Elder Berry, Catnip Leaf, Licorice Root, Senna Leaf, Black Walnut Hull, Fennel Seed, Anise Seed\\xa0</p><p>\\xa0</p><p>*Please consult your healthcare provider or pediatrician before use if child is on medication or has a medical condition.</p><p>\\xa0</p><p>** Follow Directions Carefully. If diarrhea, loose stools or abdominal pain develops, discontinue use & see a doctor.A constipated infant or a constipated toddler is certainly no fun. So don't let a bowel clog slow your tiny tot down.</p><p>\\xa0</p> Potty problems? Tired of seeing your child in pain? Put an end to your child's discomfort with PottyWise childrens stool softener\\nTo mask earthy flavor, mix with food or drink! Just shake and take 1 dropper (1mL)1-4x daily\\nThis liquid laxative for toddler constipation relief is all natural, gentle, & stimulant free\\nThis constipation relief for kids contains Elderberry, Licorice Root, Senna Leaf, Fennel Seed & Bayberry\\nHelp your child restore regularity. This stool softener for kids helps digestive system run smoothly JoySpring\", \"OLLY Kids Probiotic + Prebiotic Gummy, 30 Day Supply (30 Gummies), Just Peachy, Probiotics, Prebiotics, Peppermint, Chewable Supplement HEALTHY & HAPPY TUMMIES: OLLY Kids Happy Tummy supplements nurture a healthy digestive ecosystem with an blend of probiotics, prebiotics & soothing peppermint. Made with natural colors & flavors.\\nTHE GOOD STUFF YOU NEED: Essential nutrients are important for your overall wellness, but getting your daily recommended dose can be tough. OLLY gummy supplements make it easy, delicious, and fun.\\nNATURALLY TASTY: Kids love OLLY chewable vitamins and supplements because we make it yummy and fun to get their daily dose. Parents know the only thing better than a happy kid is a healthy, happy kid.\\nHI THERE. WE'RE OLLY: We've made it our personal mission to make nutrition easy to understand, so you can pursue good health without compromise. Taking nutritional supplements shouldn't be a chore!\\nOLLY IS DIFFERENT: Try our plant based protein powders and discover for yourself how we're different. You'll love OLLY products if you've used products from Shakeology, Garden of Life, Orgain, TrueFit, PlantFusion, KetoLogic, Organifi and ALOHA. Olly\", \"Vitafusion Fiber Gummies, Sugar Free, 90-Count Bottle (Pack of 2) During the summer months products may arrive warm but Amazon stores and ships products in accordance with manufacturers' recommendations, when provided. Vitafusion\", 'Vitafusion Fiber Gummies, 220Count\"Sugar Free\" (Pack of 2) Vitafusion Fiber Gummies, 220 Count \"sugar free\" (Pack of 2) Vitafusion', 'Vitafusion Fiber Well Gummies, 220Count Peach, Strawberry & blackberry natural flavors\\n5 grams of fiber per serving\\nBest TASTING gummy Vitafusion', 'SmartyPants Kids Formula & Fiber Daily Gummy Multivitamin: Fiber for Digestive Health, Vitamin C, D3, & Zinc for Immunity, Omega 3 Fish Oil (EPA & DHA), B6, Methyl B12, 120 Count Fiber gummies for kids has new premium ingredients, all in one delicious serving: Beta Carotene, Vitamin B6, Vitamin K2 & Choline (Packaging May Vary)\\nSupports gut strength, strong bones and more as it contains dietary fiber supplement with Omega-3 EPA & DHA (from fish oil) and choline, vitamins D3 for bone & immune health, vitamin B12 to support energy metabolism, vitamin E for antioxidant support and iodine for thyroid support.*\\nMultivitamin kids fiber gummy with omega-3 EPA & DHA (essential fatty acids) sustainably sourced from wild-caught small fish\\nFor children 4 years of age and older, take 2 kids fiber gummies daily for the first week, 4 gummies daily thereafter. May be taken with or without food. Chew each gummy thoroughly.\\nNon-GMO. Free of milk, eggs, peanuts, tree nut allergens, fish allergens, shellfish, soy, gluten and wheat. No synthetic colors or artificial sweeteners/flavors. 3RD PARTY LAB TESTED. No refrigeration required. SmartyPants Original Version', \"L'il Critters Kids Fiber Gummy Bears Supplement, 90 Count By the makers of the #1 Kids Gummy Vitamin Brand\\nNo high fructose corn syrup\\nNo synthetic (FD&C) dyes\\nGluten-free\\nAward Winning Taste Lil Critters Multi Color\"], 'negscore': [0.1, 0.1, 0.1, 0.1, 0.1, 0.1, 0.1, 0.1, 0.1]}\n",
      "\n",
      "First test sample:\n",
      "{'query': 'patrick rothfuss', 'doc': \"A Mark of Kings: The Shattered Reigns, Book 1 <p>Despite his youth, Declan Idrys knows of the evils of the world. He knows of the bastards and brigands who plague the King's lands, of the monsters skulking in the wooded depths of the realm. Together with his companion, Ryn - a beast of rather peculiar talent - he has spent the last decade of his life beneath the bloody banners of a half-dozen mercenary guilds, hunting precisely such festering wickedness within the borders of Viridian.</p> <p>Unfortunately, fate is quick to pull on the leash of its favorite children. When one particularly troubling contract goes sideways, Declan and Ryn find themselves thrust into a war thought legend and long-ended, a conflict so old it is synonymous with a time in which dragons still ruled the western skies. Now, as dead men rise from their graves and the terrible beasts of the northern ranges descend into the kingdom with an appetite for savagery and flesh, Declan is faced with a profane choice. He can turn, can flee an ancient rising horror that would see the realms of man left as shattered death and wind-blown ash.</p> <p>Or, Declan can face this mounting threat, can come to terms with the fact that his oldest friend might just be more than he appears, and learn to wield an ageless power all his own.</p> <p>Centuries pass, after all, but the Blood of Kings does not fade....</p> Audible\", 'neg': ['The Fifth Season: The Broken Earth, Book 1 <p>At the end of the world, a woman must hide her secret power and find her kidnapped daughter in this \"intricate and extraordinary\" Hugo Award winning novel of power, oppression, and revolution. (<i>The New York Times</i>)</p> <p>This is the way the world ends...for the last time.</p> <p>It starts with the great red rift across the heart of the world\\'s sole continent, spewing ash that blots out the sun. It starts with death, with a murdered son and a missing daughter. It starts with betrayal, and long dormant wounds rising up to fester.</p> <p>This is the Stillness, a land long familiar with catastrophe, where the power of the Earth is wielded as a weapon. And where there is no mercy.</p> <p>Listen to the first book in the critically acclaimed, three-time Hugo award-winning trilogy by <i>NYT </i>best-selling author N. K. Jemisin.</p> Audible', \"The Shadow of What Was Lost: The Licanius Trilogy, Book 1 <p>It has been 20 years since the end of the war. The dictatorial Augurs, once thought of almost as gods, were overthrown and wiped out during the conflict, their much-feared powers mysteriously failing them. Those who had ruled under them, men and women with a lesser ability known as the Gift, avoided the Augurs' fate only by submitting themselves to the rebellion's Four Tenets. </p> <p>A representation of these laws is now written into the flesh of any who use the Gift, forcing those so marked into absolute obedience. As a student of the Gifted, Davian suffers the consequences of a war fought--and lost--before he was born. Despised by most beyond the school walls, he and those around him are all but prisoners as they attempt to learn control of the Gift. Worse, as Davian struggles with his lessons, he knows there is further to fall if he cannot pass his final tests. But when he discovers he has the ability to wield the forbidden power of the Augurs, he sets into motion a chain of events that will change everything. </p> <p>To the north an ancient enemy, long thought defeated, begins to stir. And to the west, a young man whose fate is intertwined with Davian’s wakes up in the forest, covered in blood and with no memory of who he is....</p> Audible\", 'Unfettered: Tales By Masters of Fantasy <p>You define life or it defines you. In Shawn Speakman’s case, it was both. Lacking health insurance and diagnosed with Hodgkin’s lymphoma in 2011, Shawn quickly accrued a massive medical debt that he did not have the ability to pay. That’s when <i>New York Times</i> best-selling author Terry Brooks offered to donate a short story that Shawn could sell to help alleviate those bills - and suggested he ask the same of his other writer friends. <i>Unfettered</i> is the result: An anthology built in order to relieve that debt, featuring short stories by some of the best fantasy writers in the genre. </p> <p>Twenty-three tales comprise this incredible collection, and as the title suggests, the writers were free to contribute whatever they wished. Here is the table of contents: </p> <ul> <li>Foreword by Patrick Rothfuss</li> <li>Introduction: On Becoming Unfettered</li> <li>Imaginary Friends by Terry Brooks</li> <li>How Old Holly Came to Be by Patrick Rothfuss</li> <li>The Old Scale Game by Tad Williams</li> <li>Game of Chance by Carrie Vaughn</li> <li>The Martyr of the Roses by Jacqueline Carey</li> <li>Mudboy by Peter V. Brett</li> <li>The Sound of Broken Absolutes by Peter Orullian</li> <li>The Coach with Big Teeth by R. A. Salvatore</li> <li>Keeper of Memory by Todd Lockwood</li> <li>Heaven in a Wild Flower by Blake Charlton</li> <li>Dogs by Daniel Abraham</li> <li>The Chapel Perilous by Kevin Hearne</li> <li>Select Mode by Mark Lawrence</li> <li>All the Girls Love Michael Stein by David Anthony Durham</li> <li>Strange Rain by Jennifer Bosworth</li> <li>Nocturne by Robert V. S. Redick</li> <li>Unbowed by Eldon Thompson</li> <li>In Favour with Their Stars by Naomi Novik</li> <li>River of Souls by Robert Jordan & Brandon Sanderson</li> <li>The Jester by Michael J. Sullivan</li> <li>The Duel by Lev Grossman</li> <li>Walker and the Shade of Allanon by Terry Brooks</li> <li>The Unfettered Knight by Shawn Speakman<p>With the help of stalwart friends and these wonderful short stories, Shawn has taken the gravest of life’s hardships and created something magical. <i>Unfettered</i> is not only a fantastic anthology in its own right, but it’s a testament to the generosity found in the science fiction and fantasy community—proof that humanity can give beyond itself when the need arises. After all, isn’t that the driving narrative in fantasy literature? </p></li> </ul>', 'Neverwhere <p><b>National Best Seller </b></p> <p><b>Selected as one of NPR\\'s Top 100 Science Fiction and Fantasy Books of All Time </b></p> <p><b>The number one <i>New York Times</i> best-selling author\\'s wildly successful first novel featuring his new <i>Neverwhere</i> tale, \"How the Marquis Got His Coat Back\". </b></p> <p>Richard Mayhew is a young man with a good heart and an ordinary life, which is changed forever when he stops to help a girl he finds bleeding on a London sidewalk. His small act of kindness propels him into a world he never dreamed existed. There are people who fall through the cracks, and Richard has become one of them. And he must learn to survive in this city of shadows and darkness, monsters and saints, murderers and angels, if he is ever to return to the London that he knew. </p> <p>\"A fantastic story that is both the stuff of dreams and nightmares\" (<i>San Diego Union-Tribune</i>), Neil Gaiman\\'s first solo novel has become a touchstone of urban fantasy and a perennial favorite of readers and listeners everywhere. </p>'], 'negscore': [0.1, 0.1, 0.1, 0.1]}\n"
     ]
    }
   ],
   "source": [
    "# Take 5 samples from train and test splits\n",
    "train_samples = list(dataset[\"train\"].take(5))\n",
    "test_samples = list(dataset[\"test\"].take(5))\n",
    "\n",
    "print(\"Train samples:\", len(train_samples))\n",
    "print(\"Test samples:\", len(test_samples))\n",
    "\n",
    "# Display the first sample from each split\n",
    "print(\"\\nFirst train sample:\")\n",
    "print(train_samples[0])\n",
    "\n",
    "print(\"\\nFirst test sample:\")\n",
    "print(test_samples[0])\n"
   ]
  },
  {
   "cell_type": "code",
   "execution_count": 5,
   "metadata": {},
   "outputs": [
    {
     "name": "stdout",
     "output_type": "stream",
     "text": [
      "Keys in train samples:\n",
      "dict_keys(['query', 'doc', 'neg', 'negscore'])\n",
      "\n",
      "Keys in test samples:\n",
      "dict_keys(['query', 'doc', 'neg', 'negscore'])\n"
     ]
    }
   ],
   "source": [
    "# Print the keys of the first sample in train_samples\n",
    "print(\"Keys in train samples:\")\n",
    "print(train_samples[0].keys())\n",
    "\n",
    "# Print the keys of the first sample in test_samples\n",
    "print(\"\\nKeys in test samples:\")\n",
    "print(test_samples[0].keys())\n"
   ]
  },
  {
   "cell_type": "code",
   "execution_count": 6,
   "metadata": {},
   "outputs": [
    {
     "name": "stderr",
     "output_type": "stream",
     "text": [
      "c:\\Users\\SWAYATTA DAW\\Documents\\Projects\\esci\\.venv\\lib\\site-packages\\transformers\\tokenization_utils_base.py:1601: FutureWarning: `clean_up_tokenization_spaces` was not set. It will be set to `True` by default. This behavior will be depracted in transformers v4.45, and will be then set to `False` by default. For more details check this issue: https://github.com/huggingface/transformers/issues/31884\n",
      "  warnings.warn(\n",
      "Map: 100%|██████████| 5/5 [00:00<00:00, 133.51 examples/s]\n",
      "Map: 100%|██████████| 5/5 [00:00<00:00, 312.33 examples/s]"
     ]
    },
    {
     "name": "stdout",
     "output_type": "stream",
     "text": [
      "Tokenized train dataset:\n",
      "Dataset({\n",
      "    features: ['input_ids', 'token_type_ids', 'attention_mask', 'labels'],\n",
      "    num_rows: 56\n",
      "})\n",
      "\n",
      "First tokenized train sample:\n",
      "{'input_ids': [101, 4268, 4013, 19279, 25185, 2594, 11917, 102, 11917, 3653, 26591, 5699, 1011, 2489, 16031, 28397, 2007, 1999, 18639, 1010, 17886, 3512, 2490, 2005, 4268, 1004, 6001, 1011, 6207, 14894, 1006, 3438, 14931, 1007, 21271, 3085, 16031, 28397, 1024, 2256, 11917, 16031, 28397, 2005, 4268, 1998, 6001, 5383, 1017, 1012, 3486, 2290, 1997, 1999, 18639, 1010, 2109, 2000, 5335, 9535, 2740, 1010, 15804, 9530, 16643, 24952, 2239, 1010, 7901, 18923, 3279, 1998, 24251, 2019, 6314, 4308, 1012, 11917, 25654, 1024, 1996, 3733, 2126, 2000, 2202, 1037, 13004, 1997, 5760, 3565, 14876, 7716, 12448, 1010, 2256, 11917, 12448, 16031, 28397, 2024, 2081, 2005, 2119, 6001, 1998, 4268, 1998, 2031, 1037, 12090, 6207, 14894, 2007, 2053, 7976, 6087, 1010, 26389, 1010, 2030, 29167, 2015, 1012, 11917, 2005, 4268, 1004, 6001, 1025, 19337, 3512, 1521, 1055, 3653, 26591, 4268, 11917, 16031, 28397, 2421, 22136, 2854, 7117, 1004, 1999, 18639, 2029, 2024, 3811, 4621, 16662, 2000, 5335, 17886, 3512, 3853, 1998, 7126, 1999, 10910, 1037, 7965, 3635, 1012, 2005, 1996, 2190, 2765, 1010, 2202, 2009, 2007, 19337, 3512, 1521, 1055, 4013, 26591, 16031, 28397, 999, 11917, 16031, 28397, 2005, 6001, 5699, 2489, 1024, 15942, 2078, 5379, 1010, 19337, 3512, 2515, 2025, 2224, 21500, 20363, 2030, 2151, 4111, 3688, 1999, 1996, 2437, 1997, 2256, 11917, 16031, 8029, 1012, 3737, 4638, 2012, 2296, 2754, 1025, 23293, 1010, 6364, 1010, 5604, 1010, 28516, 15073, 1010, 28847, 1010, 3582, 2039, 5604, 2015, 19337, 3512, 102, 0, 0, 0, 0, 0, 0, 0, 0, 0, 0, 0, 0, 0, 0, 0, 0, 0, 0, 0, 0, 0, 0, 0, 0, 0, 0, 0, 0, 0, 0, 0, 0, 0, 0, 0, 0, 0, 0, 0, 0, 0, 0, 0, 0, 0, 0, 0, 0, 0, 0, 0, 0, 0, 0, 0, 0, 0, 0, 0, 0, 0, 0, 0, 0, 0, 0, 0, 0, 0, 0, 0, 0, 0, 0, 0, 0, 0, 0, 0, 0, 0, 0, 0, 0, 0, 0, 0, 0, 0, 0, 0, 0, 0, 0, 0, 0, 0, 0, 0, 0, 0, 0, 0, 0, 0, 0, 0, 0, 0, 0, 0, 0, 0, 0, 0, 0, 0, 0, 0, 0, 0, 0, 0, 0, 0, 0, 0, 0, 0, 0, 0, 0, 0, 0, 0, 0, 0, 0, 0, 0, 0, 0, 0, 0, 0, 0, 0, 0, 0, 0, 0, 0, 0, 0, 0, 0, 0, 0, 0, 0, 0, 0, 0, 0, 0, 0, 0, 0, 0, 0, 0, 0, 0, 0, 0, 0, 0, 0, 0, 0, 0, 0, 0, 0, 0, 0, 0, 0, 0, 0, 0, 0, 0, 0, 0, 0, 0, 0, 0, 0, 0, 0, 0, 0, 0, 0, 0, 0, 0, 0, 0, 0, 0, 0, 0, 0, 0, 0, 0, 0, 0, 0, 0, 0, 0, 0, 0, 0, 0, 0, 0, 0, 0, 0, 0, 0, 0, 0, 0, 0, 0, 0, 0, 0, 0, 0, 0, 0, 0, 0, 0, 0, 0, 0, 0, 0, 0, 0, 0, 0, 0, 0, 0, 0, 0, 0, 0, 0, 0, 0, 0, 0, 0, 0, 0], 'token_type_ids': [0, 0, 0, 0, 0, 0, 0, 0, 1, 1, 1, 1, 1, 1, 1, 1, 1, 1, 1, 1, 1, 1, 1, 1, 1, 1, 1, 1, 1, 1, 1, 1, 1, 1, 1, 1, 1, 1, 1, 1, 1, 1, 1, 1, 1, 1, 1, 1, 1, 1, 1, 1, 1, 1, 1, 1, 1, 1, 1, 1, 1, 1, 1, 1, 1, 1, 1, 1, 1, 1, 1, 1, 1, 1, 1, 1, 1, 1, 1, 1, 1, 1, 1, 1, 1, 1, 1, 1, 1, 1, 1, 1, 1, 1, 1, 1, 1, 1, 1, 1, 1, 1, 1, 1, 1, 1, 1, 1, 1, 1, 1, 1, 1, 1, 1, 1, 1, 1, 1, 1, 1, 1, 1, 1, 1, 1, 1, 1, 1, 1, 1, 1, 1, 1, 1, 1, 1, 1, 1, 1, 1, 1, 1, 1, 1, 1, 1, 1, 1, 1, 1, 1, 1, 1, 1, 1, 1, 1, 1, 1, 1, 1, 1, 1, 1, 1, 1, 1, 1, 1, 1, 1, 1, 1, 1, 1, 1, 1, 1, 1, 1, 1, 1, 1, 1, 1, 1, 1, 1, 1, 1, 1, 1, 1, 1, 1, 1, 1, 1, 1, 1, 1, 1, 1, 1, 1, 1, 1, 1, 1, 1, 1, 1, 1, 1, 1, 1, 1, 1, 1, 1, 1, 1, 1, 1, 1, 1, 1, 1, 1, 1, 1, 1, 1, 1, 1, 1, 0, 0, 0, 0, 0, 0, 0, 0, 0, 0, 0, 0, 0, 0, 0, 0, 0, 0, 0, 0, 0, 0, 0, 0, 0, 0, 0, 0, 0, 0, 0, 0, 0, 0, 0, 0, 0, 0, 0, 0, 0, 0, 0, 0, 0, 0, 0, 0, 0, 0, 0, 0, 0, 0, 0, 0, 0, 0, 0, 0, 0, 0, 0, 0, 0, 0, 0, 0, 0, 0, 0, 0, 0, 0, 0, 0, 0, 0, 0, 0, 0, 0, 0, 0, 0, 0, 0, 0, 0, 0, 0, 0, 0, 0, 0, 0, 0, 0, 0, 0, 0, 0, 0, 0, 0, 0, 0, 0, 0, 0, 0, 0, 0, 0, 0, 0, 0, 0, 0, 0, 0, 0, 0, 0, 0, 0, 0, 0, 0, 0, 0, 0, 0, 0, 0, 0, 0, 0, 0, 0, 0, 0, 0, 0, 0, 0, 0, 0, 0, 0, 0, 0, 0, 0, 0, 0, 0, 0, 0, 0, 0, 0, 0, 0, 0, 0, 0, 0, 0, 0, 0, 0, 0, 0, 0, 0, 0, 0, 0, 0, 0, 0, 0, 0, 0, 0, 0, 0, 0, 0, 0, 0, 0, 0, 0, 0, 0, 0, 0, 0, 0, 0, 0, 0, 0, 0, 0, 0, 0, 0, 0, 0, 0, 0, 0, 0, 0, 0, 0, 0, 0, 0, 0, 0, 0, 0, 0, 0, 0, 0, 0, 0, 0, 0, 0, 0, 0, 0, 0, 0, 0, 0, 0, 0, 0, 0, 0, 0, 0, 0, 0, 0, 0, 0, 0, 0, 0, 0, 0, 0, 0, 0, 0, 0, 0, 0, 0, 0, 0, 0, 0, 0, 0, 0, 0], 'attention_mask': [1, 1, 1, 1, 1, 1, 1, 1, 1, 1, 1, 1, 1, 1, 1, 1, 1, 1, 1, 1, 1, 1, 1, 1, 1, 1, 1, 1, 1, 1, 1, 1, 1, 1, 1, 1, 1, 1, 1, 1, 1, 1, 1, 1, 1, 1, 1, 1, 1, 1, 1, 1, 1, 1, 1, 1, 1, 1, 1, 1, 1, 1, 1, 1, 1, 1, 1, 1, 1, 1, 1, 1, 1, 1, 1, 1, 1, 1, 1, 1, 1, 1, 1, 1, 1, 1, 1, 1, 1, 1, 1, 1, 1, 1, 1, 1, 1, 1, 1, 1, 1, 1, 1, 1, 1, 1, 1, 1, 1, 1, 1, 1, 1, 1, 1, 1, 1, 1, 1, 1, 1, 1, 1, 1, 1, 1, 1, 1, 1, 1, 1, 1, 1, 1, 1, 1, 1, 1, 1, 1, 1, 1, 1, 1, 1, 1, 1, 1, 1, 1, 1, 1, 1, 1, 1, 1, 1, 1, 1, 1, 1, 1, 1, 1, 1, 1, 1, 1, 1, 1, 1, 1, 1, 1, 1, 1, 1, 1, 1, 1, 1, 1, 1, 1, 1, 1, 1, 1, 1, 1, 1, 1, 1, 1, 1, 1, 1, 1, 1, 1, 1, 1, 1, 1, 1, 1, 1, 1, 1, 1, 1, 1, 1, 1, 1, 1, 1, 1, 1, 1, 1, 1, 1, 1, 1, 1, 1, 1, 1, 1, 1, 1, 1, 1, 1, 1, 1, 0, 0, 0, 0, 0, 0, 0, 0, 0, 0, 0, 0, 0, 0, 0, 0, 0, 0, 0, 0, 0, 0, 0, 0, 0, 0, 0, 0, 0, 0, 0, 0, 0, 0, 0, 0, 0, 0, 0, 0, 0, 0, 0, 0, 0, 0, 0, 0, 0, 0, 0, 0, 0, 0, 0, 0, 0, 0, 0, 0, 0, 0, 0, 0, 0, 0, 0, 0, 0, 0, 0, 0, 0, 0, 0, 0, 0, 0, 0, 0, 0, 0, 0, 0, 0, 0, 0, 0, 0, 0, 0, 0, 0, 0, 0, 0, 0, 0, 0, 0, 0, 0, 0, 0, 0, 0, 0, 0, 0, 0, 0, 0, 0, 0, 0, 0, 0, 0, 0, 0, 0, 0, 0, 0, 0, 0, 0, 0, 0, 0, 0, 0, 0, 0, 0, 0, 0, 0, 0, 0, 0, 0, 0, 0, 0, 0, 0, 0, 0, 0, 0, 0, 0, 0, 0, 0, 0, 0, 0, 0, 0, 0, 0, 0, 0, 0, 0, 0, 0, 0, 0, 0, 0, 0, 0, 0, 0, 0, 0, 0, 0, 0, 0, 0, 0, 0, 0, 0, 0, 0, 0, 0, 0, 0, 0, 0, 0, 0, 0, 0, 0, 0, 0, 0, 0, 0, 0, 0, 0, 0, 0, 0, 0, 0, 0, 0, 0, 0, 0, 0, 0, 0, 0, 0, 0, 0, 0, 0, 0, 0, 0, 0, 0, 0, 0, 0, 0, 0, 0, 0, 0, 0, 0, 0, 0, 0, 0, 0, 0, 0, 0, 0, 0, 0, 0, 0, 0, 0, 0, 0, 0, 0, 0, 0, 0, 0, 0, 0, 0, 0, 0, 0, 0, 0, 0], 'labels': 1.0}\n"
     ]
    },
    {
     "name": "stderr",
     "output_type": "stream",
     "text": [
      "\n"
     ]
    }
   ],
   "source": [
    "# Import necessary libraries\n",
    "from datasets import Dataset\n",
    "from transformers import AutoTokenizer\n",
    "import pandas as pd\n",
    "\n",
    "\n",
    "# Function to tokenize and prepare samples for training\n",
    "def prepare_samples(examples):\n",
    "    samples = []\n",
    "    \n",
    "    # Create positive samples\n",
    "    for query, doc in zip(examples[\"query\"], examples[\"doc\"]):\n",
    "        samples.append({\"query\": query, \"text\": doc, \"label\": 1.0})\n",
    "    \n",
    "    # Create negative samples\n",
    "    for query, negs, negscores in zip(examples[\"query\"], examples[\"neg\"], examples[\"negscore\"]):\n",
    "        for neg, negscore in zip(negs, negscores):\n",
    "            samples.append({\"query\": query, \"text\": neg, \"label\": negscore})\n",
    "    \n",
    "    # Tokenize the batch\n",
    "    tokenized = tokenizer(\n",
    "        [sample[\"query\"] for sample in samples],\n",
    "        [sample[\"text\"] for sample in samples],\n",
    "        padding=\"max_length\",\n",
    "        truncation=True,\n",
    "        max_length=512,\n",
    "        return_tensors=\"pt\"\n",
    "    )\n",
    "    \n",
    "    # Add labels\n",
    "    tokenized[\"labels\"] = torch.tensor([sample[\"label\"] for sample in samples])\n",
    "    \n",
    "    return tokenized\n",
    "\n",
    "# Initialize the tokenizer\n",
    "tokenizer = AutoTokenizer.from_pretrained(\"bert-base-uncased\")\n",
    "\n",
    "\n",
    "# Convert train_samples and test_samples to Dataset objects\n",
    "train_dataset = Dataset.from_list(train_samples)\n",
    "test_dataset = Dataset.from_list(test_samples)\n",
    "\n",
    "# Tokenize datasets using map function with batching\n",
    "tokenized_train_dataset = train_dataset.map(\n",
    "    prepare_samples,\n",
    "    batched=True,\n",
    "    batch_size=32,\n",
    "    remove_columns=train_dataset.column_names\n",
    ")\n",
    "\n",
    "tokenized_test_dataset = test_dataset.map(\n",
    "    prepare_samples,\n",
    "    batched=True,\n",
    "    batch_size=32,\n",
    "    remove_columns=test_dataset.column_names\n",
    ")\n",
    "\n",
    "print(\"Tokenized train dataset:\")\n",
    "print(tokenized_train_dataset)\n",
    "print(\"\\nFirst tokenized train sample:\")\n",
    "print(tokenized_train_dataset[0])\n",
    "\n"
   ]
  },
  {
   "cell_type": "markdown",
   "metadata": {},
   "source": [
    "Printing the first sample of the tokenized dataset (without tensors)\n",
    "We observe that the tokenized sample contains CLS, SEP, and PAD tokens. Each query and document pair is concatenated with a SEP token in between. The labels are the relevance scores.\n"
   ]
  },
  {
   "cell_type": "code",
   "execution_count": 7,
   "metadata": {},
   "outputs": [
    {
     "name": "stdout",
     "output_type": "stream",
     "text": [
      "\n",
      "First tokenized train sample (without tensors):\n",
      "{\n",
      "  \"input_ids\": \"[CLS] kids probtiotic fiber [SEP] pottywise liquid stool softener for kids - stool softener and liquidlaxative for kids - gentle constipation relief for kids, fiber for kids, kids stool softener < p > a backed up baby booty can wreak havoc on your day. looking for an easy & safe way to keep constipation away? our digestive support supplements safely stop constipation, eliminate gas, relieve tummy cramps & reduce bloating! < / p > < p > < / p > < p > 100 % absolutely no sugar, gluten, preservatives, etc. < / p > < p > < / p > < p > stop giving your kid a laxative with stool softener designed for adult tummies. sugar - free, gluten - free & blended using only the finest laxative herbs, these digestion drops provide natural constipation relief for kids & gassy babies. < / p > < p > < / p > < p > yummy bowel health formula children enjoy! don't worry about tricking your kid into taking his / her bowel movement supplement. our constipation supplements are in a liquid form & naturally have a slight flavor. add some drops to a bottle, on top of food or mixed in a drink! < / p > < p > < / p > < p > laxative oil comes in convenient dropper bottle! < / p > < p > < / p > < p > get rid of that messy baby laxative & stool softener. packaged in a dropper bottle, this laxative for babies & kids is easy to give. dispense & administer 1ml ( 20 drops ) 1 - 3x daily depending on the needs of your constipated baby. < / p > < p > < / p > < p > ingredients : elder berry, catnip leaf, licorice root, senna leaf, black walnut hull, fennel seed, anise seed < / p > < p > < / p > < p > * please consult your healthcare provider or pediatrician before use if child is on medication or has a medical condition. < / p > < p > < / p > < p > * * follow directions carefully. if diarrhea, loose stools or abdominal pain develops, discontinue use & see a doctor. a constipated infant or a con [SEP]\",\n",
      "  \"labels\": 0.10000000149011612\n",
      "}\n"
     ]
    }
   ],
   "source": [
    "# Print the first sample of the tokenized dataset (without tensors)\n",
    "import json\n",
    "print(\"\\nFirst tokenized train sample (without tensors):\")\n",
    "sample = tokenized_train_dataset[7]\n",
    "readable_sample = {\n",
    "    \"input_ids\": tokenizer.decode(sample[\"input_ids\"]),\n",
    "    \"labels\": sample[\"labels\"]\n",
    "}\n",
    "print(json.dumps(readable_sample, indent=2))\n"
   ]
  },
  {
   "cell_type": "code",
   "execution_count": null,
   "metadata": {},
   "outputs": [],
   "source": [
    "# %pip install accelerate -U"
   ]
  },
  {
   "cell_type": "markdown",
   "metadata": {},
   "source": [
    "Model Training and Evaluation\n",
    "\n",
    "In the cell below, we perform the following steps:\n",
    "\n",
    "1. Initialize the BERT model for sequence classification with a single output (regression).\n",
    "2. Split the tokenized dataset into training and validation sets.\n",
    "3. Define training arguments, including:\n",
    "   - Output directory for results\n",
    "   - Number of training epochs\n",
    "   - Batch sizes for training and evaluation\n",
    "   - Warmup steps and weight decay for optimization\n",
    "   - Logging directory\n",
    "   - Evaluation and saving strategies\n",
    "4. Create a Trainer object with the model, training arguments, datasets, and tokenizer.\n",
    "5. Start the training process.\n",
    "6. Evaluate the trained model on the validation set.\n",
    "7. Save the final model.\n",
    "\n",
    "The loss function used in this regression task is typically Mean Squared Error (MSE).\n",
    "MSE calculates the average squared difference between the predicted relevance scores\n",
    "and the actual labels. The model aims to minimize this loss during training.\n",
    "\n",
    "The use of a single output neuron (num_labels=1) in the model initialization\n",
    "indicates that we're treating this as a regression problem, predicting a continuous\n",
    "relevance score rather than discrete classes.\n"
   ]
  },
  {
   "cell_type": "code",
   "execution_count": null,
   "metadata": {},
   "outputs": [],
   "source": [
    "# # Initialize the model\n",
    "# model = AutoModelForSequenceClassification.from_pretrained(\"bert-base-uncased\", num_labels=1)\n",
    "\n",
    "# # Split the tokenized datasets into train and validation sets\n",
    "# tokenized_dataset = tokenized_train_dataset.train_test_split(test_size=0.2)\n",
    "\n",
    "# print(\"Training dataset size:\", len(tokenized_dataset[\"train\"]))\n",
    "# print(\"Validation dataset size:\", len(tokenized_dataset[\"test\"]))\n",
    "\n",
    "# # Define training arguments\n",
    "# training_args = TrainingArguments(\n",
    "#     output_dir=\"./results\",\n",
    "#     num_train_epochs=3,\n",
    "#     per_device_train_batch_size=8,\n",
    "#     per_device_eval_batch_size=8,\n",
    "#     warmup_steps=500,\n",
    "#     weight_decay=0.01,\n",
    "#     logging_dir=\"./logs\",\n",
    "#     evaluation_strategy=\"epoch\",\n",
    "#     save_strategy=\"epoch\",\n",
    "#     load_best_model_at_end=True,\n",
    "# )\n",
    "\n",
    "# # Create the Trainer\n",
    "# trainer = Trainer(\n",
    "#     model=model,\n",
    "#     args=training_args,\n",
    "#     train_dataset=tokenized_dataset[\"train\"],\n",
    "#     eval_dataset=tokenized_dataset[\"test\"],\n",
    "#     tokenizer=tokenizer,\n",
    "# )\n",
    "\n",
    "# # Start training\n",
    "# print(\"Starting training...\")\n",
    "# trainer.train()\n",
    "\n",
    "# # Evaluate the model\n",
    "# print(\"Evaluating the model...\")\n",
    "# eval_results = trainer.evaluate()\n",
    "# print(f\"Evaluation results: {eval_results}\")\n",
    "\n",
    "# # Save the model\n",
    "# print(\"Saving the model...\")\n",
    "# trainer.save_model(\"./final_model\")\n",
    "# print(\"Model saved successfully.\")\n",
    "\n",
    "\n"
   ]
  },
  {
   "cell_type": "code",
   "execution_count": null,
   "metadata": {},
   "outputs": [],
   "source": [
    "# Install the required packages\n",
    "%pip install transformers[torch] -U\n",
    "%pip install accelerate -U\n"
   ]
  },
  {
   "cell_type": "markdown",
   "metadata": {},
   "source": [
    "### Training Run with Weights and Biases monitoring\n"
   ]
  },
  {
   "cell_type": "code",
   "execution_count": null,
   "metadata": {},
   "outputs": [],
   "source": [
    "%pip install wandb"
   ]
  },
  {
   "cell_type": "code",
   "execution_count": 8,
   "metadata": {},
   "outputs": [
    {
     "name": "stderr",
     "output_type": "stream",
     "text": [
      "Failed to detect the name of this notebook, you can set it manually with the WANDB_NOTEBOOK_NAME environment variable to enable code saving.\n",
      "\u001b[34m\u001b[1mwandb\u001b[0m: Currently logged in as: \u001b[33mswayatta\u001b[0m. Use \u001b[1m`wandb login --relogin`\u001b[0m to force relogin\n"
     ]
    },
    {
     "data": {
      "text/html": [
       "Tracking run with wandb version 0.17.8"
      ],
      "text/plain": [
       "<IPython.core.display.HTML object>"
      ]
     },
     "metadata": {},
     "output_type": "display_data"
    },
    {
     "data": {
      "text/html": [
       "Run data is saved locally in <code>c:\\Users\\SWAYATTA DAW\\Documents\\Projects\\esci\\wandb\\run-20240830_082644-kl640hal</code>"
      ],
      "text/plain": [
       "<IPython.core.display.HTML object>"
      ]
     },
     "metadata": {},
     "output_type": "display_data"
    },
    {
     "data": {
      "text/html": [
       "Syncing run <strong><a href='https://wandb.ai/swayatta/amazon-esci-ranking/runs/kl640hal' target=\"_blank\">bert-regression</a></strong> to <a href='https://wandb.ai/swayatta/amazon-esci-ranking' target=\"_blank\">Weights & Biases</a> (<a href='https://wandb.me/run' target=\"_blank\">docs</a>)<br/>"
      ],
      "text/plain": [
       "<IPython.core.display.HTML object>"
      ]
     },
     "metadata": {},
     "output_type": "display_data"
    },
    {
     "data": {
      "text/html": [
       " View project at <a href='https://wandb.ai/swayatta/amazon-esci-ranking' target=\"_blank\">https://wandb.ai/swayatta/amazon-esci-ranking</a>"
      ],
      "text/plain": [
       "<IPython.core.display.HTML object>"
      ]
     },
     "metadata": {},
     "output_type": "display_data"
    },
    {
     "data": {
      "text/html": [
       " View run at <a href='https://wandb.ai/swayatta/amazon-esci-ranking/runs/kl640hal' target=\"_blank\">https://wandb.ai/swayatta/amazon-esci-ranking/runs/kl640hal</a>"
      ],
      "text/plain": [
       "<IPython.core.display.HTML object>"
      ]
     },
     "metadata": {},
     "output_type": "display_data"
    },
    {
     "data": {
      "text/html": [
       "<button onClick=\"this.nextSibling.style.display='block';this.style.display='none';\">Display W&B run</button><iframe src='https://wandb.ai/swayatta/amazon-esci-ranking/runs/kl640hal?jupyter=true' style='border:none;width:100%;height:420px;display:none;'></iframe>"
      ],
      "text/plain": [
       "<wandb.sdk.wandb_run.Run at 0x7cedeac0>"
      ]
     },
     "execution_count": 8,
     "metadata": {},
     "output_type": "execute_result"
    }
   ],
   "source": [
    "import os\n",
    "os.environ[\"WANDB_API_KEY\"] = \"30e6362592c0c1ec55dd7cf48a09a674b33f6519\"\n",
    "\n",
    "# Now initialize wandb\n",
    "import wandb\n",
    "wandb.init(project=\"amazon-esci-ranking\", name=\"bert-regression\")"
   ]
  },
  {
   "cell_type": "code",
   "execution_count": 9,
   "metadata": {},
   "outputs": [
    {
     "data": {
      "text/html": [
       "Finishing last run (ID:kl640hal) before initializing another..."
      ],
      "text/plain": [
       "<IPython.core.display.HTML object>"
      ]
     },
     "metadata": {},
     "output_type": "display_data"
    },
    {
     "data": {
      "text/html": [
       " View run <strong style=\"color:#cdcd00\">bert-regression</strong> at: <a href='https://wandb.ai/swayatta/amazon-esci-ranking/runs/kl640hal' target=\"_blank\">https://wandb.ai/swayatta/amazon-esci-ranking/runs/kl640hal</a><br/> View project at: <a href='https://wandb.ai/swayatta/amazon-esci-ranking' target=\"_blank\">https://wandb.ai/swayatta/amazon-esci-ranking</a><br/>Synced 4 W&B file(s), 0 media file(s), 0 artifact file(s) and 0 other file(s)"
      ],
      "text/plain": [
       "<IPython.core.display.HTML object>"
      ]
     },
     "metadata": {},
     "output_type": "display_data"
    },
    {
     "data": {
      "text/html": [
       "Find logs at: <code>.\\wandb\\run-20240830_082644-kl640hal\\logs</code>"
      ],
      "text/plain": [
       "<IPython.core.display.HTML object>"
      ]
     },
     "metadata": {},
     "output_type": "display_data"
    },
    {
     "data": {
      "text/html": [
       "The new W&B backend becomes opt-out in version 0.18.0; try it out with `wandb.require(\"core\")`! See https://wandb.me/wandb-core for more information."
      ],
      "text/plain": [
       "<IPython.core.display.HTML object>"
      ]
     },
     "metadata": {},
     "output_type": "display_data"
    },
    {
     "data": {
      "text/html": [
       "Successfully finished last run (ID:kl640hal). Initializing new run:<br/>"
      ],
      "text/plain": [
       "<IPython.core.display.HTML object>"
      ]
     },
     "metadata": {},
     "output_type": "display_data"
    },
    {
     "data": {
      "text/html": [
       "Tracking run with wandb version 0.17.8"
      ],
      "text/plain": [
       "<IPython.core.display.HTML object>"
      ]
     },
     "metadata": {},
     "output_type": "display_data"
    },
    {
     "data": {
      "text/html": [
       "Run data is saved locally in <code>c:\\Users\\SWAYATTA DAW\\Documents\\Projects\\esci\\wandb\\run-20240830_082646-2ud2ejd8</code>"
      ],
      "text/plain": [
       "<IPython.core.display.HTML object>"
      ]
     },
     "metadata": {},
     "output_type": "display_data"
    },
    {
     "data": {
      "text/html": [
       "Syncing run <strong><a href='https://wandb.ai/swayatta/amazon-esci-ranking/runs/2ud2ejd8' target=\"_blank\">bert-regression</a></strong> to <a href='https://wandb.ai/swayatta/amazon-esci-ranking' target=\"_blank\">Weights & Biases</a> (<a href='https://wandb.me/run' target=\"_blank\">docs</a>)<br/>"
      ],
      "text/plain": [
       "<IPython.core.display.HTML object>"
      ]
     },
     "metadata": {},
     "output_type": "display_data"
    },
    {
     "data": {
      "text/html": [
       " View project at <a href='https://wandb.ai/swayatta/amazon-esci-ranking' target=\"_blank\">https://wandb.ai/swayatta/amazon-esci-ranking</a>"
      ],
      "text/plain": [
       "<IPython.core.display.HTML object>"
      ]
     },
     "metadata": {},
     "output_type": "display_data"
    },
    {
     "data": {
      "text/html": [
       " View run at <a href='https://wandb.ai/swayatta/amazon-esci-ranking/runs/2ud2ejd8' target=\"_blank\">https://wandb.ai/swayatta/amazon-esci-ranking/runs/2ud2ejd8</a>"
      ],
      "text/plain": [
       "<IPython.core.display.HTML object>"
      ]
     },
     "metadata": {},
     "output_type": "display_data"
    },
    {
     "name": "stdout",
     "output_type": "stream",
     "text": [
      "Weights & Biases initialized successfully.\n"
     ]
    }
   ],
   "source": [
    "# Initialize wandb\n",
    "import wandb\n",
    "\n",
    "# Configure wandb\n",
    "wandb.init(\n",
    "    project=\"amazon-esci-ranking\",\n",
    "    name=\"bert-regression\",\n",
    "    config={\n",
    "        \"model\": \"bert-base-uncased\",\n",
    "        \"epochs\": 3,\n",
    "        \"batch_size\": 8,\n",
    "        \"learning_rate\": 2e-5,\n",
    "        \"weight_decay\": 0.01,\n",
    "    }\n",
    ")\n",
    "\n",
    "print(\"Weights & Biases initialized successfully.\")\n"
   ]
  },
  {
   "cell_type": "code",
   "execution_count": null,
   "metadata": {},
   "outputs": [],
   "source": [
    "from sklearn.metrics import mean_squared_error\n",
    "import numpy as np\n",
    "# import wandb  # Disabled for now\n",
    "\n",
    "# Initialize wandb\n",
    "# wandb.init(\n",
    "#     project=\"amazon-esci-ranking\",\n",
    "#     name=\"bert-regression\",\n",
    "#     config={\n",
    "#         \"model\": \"bert-base-uncased\",\n",
    "#         \"epochs\": 3,\n",
    "#         \"batch_size\": 8,\n",
    "#         \"learning_rate\": 2e-5,\n",
    "#         \"weight_decay\": 0.01,\n",
    "#     }\n",
    "# )\n",
    "\n",
    "# Initialize the model\n",
    "model = AutoModelForSequenceClassification.from_pretrained(\"bert-base-uncased\", num_labels=1)\n",
    "\n",
    "# Use the previously tokenized datasets\n",
    "train_dataset = tokenized_train_dataset\n",
    "test_dataset = tokenized_test_dataset\n",
    "\n",
    "print(\"Training dataset size:\", len(train_dataset))\n",
    "print(\"Test dataset size:\", len(test_dataset))\n",
    "\n",
    "# Define custom metrics computation\n",
    "def compute_metrics(eval_pred):\n",
    "    predictions, labels = eval_pred\n",
    "    mse = mean_squared_error(labels, predictions)\n",
    "    rmse = np.sqrt(mse)\n",
    "    return {\n",
    "        \"mse\": mse,\n",
    "        \"rmse\": rmse,\n",
    "    }\n",
    "\n",
    "# Define training arguments with wandb logging\n",
    "training_args = TrainingArguments(\n",
    "    output_dir=\"./results\",\n",
    "    num_train_epochs=3,\n",
    "    per_device_train_batch_size=8,\n",
    "    per_device_eval_batch_size=8,\n",
    "    warmup_steps=500,\n",
    "    weight_decay=0.01,\n",
    "    logging_dir=\"./logs\",\n",
    "    evaluation_strategy=\"epoch\",\n",
    "    save_strategy=\"epoch\",\n",
    "    load_best_model_at_end=True,\n",
    "    # report_to=\"wandb\",  # Enable wandb logging\n",
    ")\n",
    "\n",
    "# Create the Trainer with wandb logging and custom metrics\n",
    "trainer = Trainer(\n",
    "    model=model,\n",
    "    args=training_args,\n",
    "    train_dataset=train_dataset,\n",
    "    eval_dataset=test_dataset,\n",
    "    tokenizer=tokenizer,\n",
    "    compute_metrics=compute_metrics,  # Add custom metrics\n",
    ")\n",
    "\n",
    "# Start training\n",
    "print(\"Starting training...\")\n",
    "trainer.train()\n",
    "\n",
    "# Evaluate the model\n",
    "print(\"Evaluating the model...\")\n",
    "eval_results = trainer.evaluate()\n",
    "print(f\"Evaluation results: {eval_results}\")\n",
    "\n",
    "# Log evaluation results to wandb\n",
    "# wandb.log({\"eval_results\": eval_results})\n",
    "\n",
    "# Save the model\n",
    "print(\"Saving the model...\")\n",
    "trainer.save_model(\"./final_model\")\n",
    "print(\"Model saved successfully.\")\n",
    "\n",
    "# Finish the wandb run\n",
    "# wandb.finish()"
   ]
  },
  {
   "cell_type": "code",
   "execution_count": 12,
   "metadata": {},
   "outputs": [
    {
     "data": {
      "text/plain": [
       "Dataset({\n",
       "    features: ['input_ids', 'token_type_ids', 'attention_mask', 'labels'],\n",
       "    num_rows: 56\n",
       "})"
      ]
     },
     "execution_count": 12,
     "metadata": {},
     "output_type": "execute_result"
    }
   ],
   "source": [
    "tokenized_train_dataset"
   ]
  },
  {
   "cell_type": "code",
   "execution_count": 14,
   "metadata": {},
   "outputs": [
    {
     "name": "stdout",
     "output_type": "stream",
     "text": [
      "Training dataset size: 5\n",
      "Test dataset size: 5\n"
     ]
    }
   ],
   "source": [
    "print(\"Training dataset size:\", len(train_dataset))\n",
    "print(\"Test dataset size:\", len(test_dataset))"
   ]
  }
 ],
 "metadata": {
  "kernelspec": {
   "display_name": ".venv",
   "language": "python",
   "name": "python3"
  },
  "language_info": {
   "codemirror_mode": {
    "name": "ipython",
    "version": 3
   },
   "file_extension": ".py",
   "mimetype": "text/x-python",
   "name": "python",
   "nbconvert_exporter": "python",
   "pygments_lexer": "ipython3",
   "version": "3.9.13"
  }
 },
 "nbformat": 4,
 "nbformat_minor": 2
}
